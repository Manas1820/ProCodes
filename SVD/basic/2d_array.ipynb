import numpy as np
from numpy import array
from numpy import diag
from numpy import dot
from numpy import zeros
from scipy.linalg import svd

//create numpy 2d-array 3x4 matrix
row1 = []
row2 = []
row3 = []
row4 = []
print("Enter for row - 1")
for i in range(3):
    row1.append(int(input()))
print("Enter for row - 2")
for i in range(3):
    row2.append(int(input()))
print("Enter for row - 3")
for i in range(3):
    row3.append(int(input()))
print("Enter for row - 4")
for i in range(3):
    row4.append(int(input()))
m = np.array([row1,
              row2,
              row3,
              row4])
print(m)
# Singular-value decomposition
U, s, VT = svd(m)
# create 3 x 4 Sigma matrix
Sigma = zeros((m.shape[0], m.shape[1]))
# populate Sigma with 4 x 4 diagonal matrix
Sigma[:m.shape[1], :m.shape[1]] = diag(s)
# reconstruct matrix
B = U.dot(Sigma.dot(VT))
print(B)







